{
  "cells": [
    {
      "cell_type": "markdown",
      "metadata": {
        "id": "0MWKGqBne0k5"
      },
      "source": [
        "# Training"
      ]
    },
    {
      "cell_type": "markdown",
      "metadata": {
        "id": "8bVRJk4Qwz0s"
      },
      "source": [
        "## 1. Loading datasets"
      ]
    },
    {
      "cell_type": "markdown",
      "metadata": {
        "id": "j6Rt_vK3uyj_"
      },
      "source": [
        "### 1.1 Loading datasetst as `pandas DataFrame`"
      ]
    },
    {
      "cell_type": "code",
      "execution_count": null,
      "metadata": {
        "execution": {
          "iopub.execute_input": "2025-07-06T09:58:09.276363Z",
          "iopub.status.busy": "2025-07-06T09:58:09.275838Z",
          "iopub.status.idle": "2025-07-06T09:58:11.583351Z",
          "shell.execute_reply": "2025-07-06T09:58:11.582694Z",
          "shell.execute_reply.started": "2025-07-06T09:58:09.276338Z"
        },
        "id": "kn3sKXLdV0TO",
        "outputId": "6c7dad34-1a74-4599-d8e1-b0c081548bb4",
        "trusted": true
      },
      "outputs": [
        {
          "data": {
            "text/html": [
              "<div>\n",
              "<style scoped>\n",
              "    .dataframe tbody tr th:only-of-type {\n",
              "        vertical-align: middle;\n",
              "    }\n",
              "\n",
              "    .dataframe tbody tr th {\n",
              "        vertical-align: top;\n",
              "    }\n",
              "\n",
              "    .dataframe thead th {\n",
              "        text-align: right;\n",
              "    }\n",
              "</style>\n",
              "<table border=\"1\" class=\"dataframe\">\n",
              "  <thead>\n",
              "    <tr style=\"text-align: right;\">\n",
              "      <th></th>\n",
              "      <th>id</th>\n",
              "      <th>comment_text</th>\n",
              "      <th>toxic</th>\n",
              "      <th>severe_toxic</th>\n",
              "      <th>obscene</th>\n",
              "      <th>threat</th>\n",
              "      <th>insult</th>\n",
              "      <th>identity_hate</th>\n",
              "    </tr>\n",
              "  </thead>\n",
              "  <tbody>\n",
              "    <tr>\n",
              "      <th>0</th>\n",
              "      <td>0000997932d777bf</td>\n",
              "      <td>Explanation\\nWhy the edits made under my usern...</td>\n",
              "      <td>0</td>\n",
              "      <td>0</td>\n",
              "      <td>0</td>\n",
              "      <td>0</td>\n",
              "      <td>0</td>\n",
              "      <td>0</td>\n",
              "    </tr>\n",
              "    <tr>\n",
              "      <th>1</th>\n",
              "      <td>000103f0d9cfb60f</td>\n",
              "      <td>D'aww! He matches this background colour I'm s...</td>\n",
              "      <td>0</td>\n",
              "      <td>0</td>\n",
              "      <td>0</td>\n",
              "      <td>0</td>\n",
              "      <td>0</td>\n",
              "      <td>0</td>\n",
              "    </tr>\n",
              "    <tr>\n",
              "      <th>2</th>\n",
              "      <td>000113f07ec002fd</td>\n",
              "      <td>Hey man, I'm really not trying to edit war. It...</td>\n",
              "      <td>0</td>\n",
              "      <td>0</td>\n",
              "      <td>0</td>\n",
              "      <td>0</td>\n",
              "      <td>0</td>\n",
              "      <td>0</td>\n",
              "    </tr>\n",
              "    <tr>\n",
              "      <th>3</th>\n",
              "      <td>0001b41b1c6bb37e</td>\n",
              "      <td>\"\\nMore\\nI can't make any real suggestions on ...</td>\n",
              "      <td>0</td>\n",
              "      <td>0</td>\n",
              "      <td>0</td>\n",
              "      <td>0</td>\n",
              "      <td>0</td>\n",
              "      <td>0</td>\n",
              "    </tr>\n",
              "    <tr>\n",
              "      <th>4</th>\n",
              "      <td>0001d958c54c6e35</td>\n",
              "      <td>You, sir, are my hero. Any chance you remember...</td>\n",
              "      <td>0</td>\n",
              "      <td>0</td>\n",
              "      <td>0</td>\n",
              "      <td>0</td>\n",
              "      <td>0</td>\n",
              "      <td>0</td>\n",
              "    </tr>\n",
              "  </tbody>\n",
              "</table>\n",
              "</div>"
            ],
            "text/plain": [
              "                 id                                       comment_text  toxic  \\\n",
              "0  0000997932d777bf  Explanation\\nWhy the edits made under my usern...      0   \n",
              "1  000103f0d9cfb60f  D'aww! He matches this background colour I'm s...      0   \n",
              "2  000113f07ec002fd  Hey man, I'm really not trying to edit war. It...      0   \n",
              "3  0001b41b1c6bb37e  \"\\nMore\\nI can't make any real suggestions on ...      0   \n",
              "4  0001d958c54c6e35  You, sir, are my hero. Any chance you remember...      0   \n",
              "\n",
              "   severe_toxic  obscene  threat  insult  identity_hate  \n",
              "0             0        0       0       0              0  \n",
              "1             0        0       0       0              0  \n",
              "2             0        0       0       0              0  \n",
              "3             0        0       0       0              0  \n",
              "4             0        0       0       0              0  "
            ]
          },
          "execution_count": 1,
          "metadata": {},
          "output_type": "execute_result"
        }
      ],
      "source": [
        "import pandas as pd\n",
        "\n",
        "train_df = pd.read_csv(\"/kaggle/input/toxic-comment/train.csv\", on_bad_lines='warn')\n",
        "test_df = pd.read_csv(\"/kaggle/input/toxic-comment/test.csv\")\n",
        "test_labels_df = pd.read_csv(\"/kaggle/input/toxic-comment/test_labels.csv\")\n",
        "\n",
        "train_df.head()"
      ]
    },
    {
      "cell_type": "markdown",
      "metadata": {
        "id": "GVjE_dDDYsoB"
      },
      "source": [
        "### 1.2 Class distribution visualization"
      ]
    },
    {
      "cell_type": "code",
      "execution_count": null,
      "metadata": {
        "execution": {
          "iopub.execute_input": "2025-07-06T09:58:32.927787Z",
          "iopub.status.busy": "2025-07-06T09:58:32.927041Z",
          "iopub.status.idle": "2025-07-06T09:58:33.602098Z",
          "shell.execute_reply": "2025-07-06T09:58:33.601284Z",
          "shell.execute_reply.started": "2025-07-06T09:58:32.927755Z"
        },
        "id": "tt4jdVAoHFvw",
        "outputId": "324a468f-038d-468c-db40-cb7da46f3331",
        "trusted": true
      },
      "outputs": [
        {
          "data": {
            "image/png": "[encoded data removed]",
            "text/plain": [
              "<Figure size 800x400 with 1 Axes>"
            ]
          },
          "metadata": {},
          "output_type": "display_data"
        }
      ],
      "source": [
        "import matplotlib.pyplot as plt\n",
        "import seaborn as sns\n",
        "\n",
        "# List of labels for classification\n",
        "labels = ['toxic', 'severe_toxic', 'obscene', 'threat',\n",
        "       'insult', 'identity_hate']\n",
        "\n",
        "plt.figure(figsize=(8,4))\n",
        "train_df[labels].sum().sort_values().plot(kind='barh', color='salmon')\n",
        "plt.title(\"Class Distribution\")\n",
        "plt.show()"
      ]
    },
    {
      "cell_type": "markdown",
      "metadata": {
        "id": "UqAnWKnwQnRO"
      },
      "source": [
        "## 2. Preparing the dataset"
      ]
    },
    {
      "cell_type": "markdown",
      "metadata": {
        "id": "bjLQzo1a2XRQ"
      },
      "source": [
        "### 2.1 Multilabel Stratified Splitting for handling the class imbalance"
      ]
    },
    {
      "cell_type": "code",
      "execution_count": null,
      "metadata": {
        "execution": {
          "iopub.execute_input": "2025-07-06T09:58:39.824834Z",
          "iopub.status.busy": "2025-07-06T09:58:39.824414Z",
          "iopub.status.idle": "2025-07-06T09:58:42.803999Z",
          "shell.execute_reply": "2025-07-06T09:58:42.803072Z",
          "shell.execute_reply.started": "2025-07-06T09:58:39.824811Z"
        },
        "id": "MJnDklSf7vlE",
        "outputId": "9beedb0a-cbbd-4e1c-df34-e8ccc3742f22",
        "trusted": true
      },
      "outputs": [
        {
          "name": "stdout",
          "output_type": "stream",
          "text": [
            "Requirement already satisfied: iterative-stratification in /usr/local/lib/python3.11/dist-packages (0.1.9)\n",
            "Requirement already satisfied: numpy in /usr/local/lib/python3.11/dist-packages (from iterative-stratification) (1.26.4)\n",
            "Requirement already satisfied: scipy in /usr/local/lib/python3.11/dist-packages (from iterative-stratification) (1.15.2)\n",
            "Requirement already satisfied: scikit-learn in /usr/local/lib/python3.11/dist-packages (from iterative-stratification) (1.2.2)\n",
            "Requirement already satisfied: mkl_fft in /usr/local/lib/python3.11/dist-packages (from numpy->iterative-stratification) (1.3.8)\n",
            "Requirement already satisfied: mkl_random in /usr/local/lib/python3.11/dist-packages (from numpy->iterative-stratification) (1.2.4)\n",
            "Requirement already satisfied: mkl_umath in /usr/local/lib/python3.11/dist-packages (from numpy->iterative-stratification) (0.1.1)\n",
            "Requirement already satisfied: mkl in /usr/local/lib/python3.11/dist-packages (from numpy->iterative-stratification) (2025.1.0)\n",
            "Requirement already satisfied: tbb4py in /usr/local/lib/python3.11/dist-packages (from numpy->iterative-stratification) (2022.1.0)\n",
            "Requirement already satisfied: mkl-service in /usr/local/lib/python3.11/dist-packages (from numpy->iterative-stratification) (2.4.1)\n",
            "Requirement already satisfied: joblib>=1.1.1 in /usr/local/lib/python3.11/dist-packages (from scikit-learn->iterative-stratification) (1.5.0)\n",
            "Requirement already satisfied: threadpoolctl>=2.0.0 in /usr/local/lib/python3.11/dist-packages (from scikit-learn->iterative-stratification) (3.6.0)\n",
            "Requirement already satisfied: intel-openmp<2026,>=2024 in /usr/local/lib/python3.11/dist-packages (from mkl->numpy->iterative-stratification) (2024.2.0)\n",
            "Requirement already satisfied: tbb==2022.* in /usr/local/lib/python3.11/dist-packages (from mkl->numpy->iterative-stratification) (2022.1.0)\n",
            "Requirement already satisfied: tcmlib==1.* in /usr/local/lib/python3.11/dist-packages (from tbb==2022.*->mkl->numpy->iterative-stratification) (1.3.0)\n",
            "Requirement already satisfied: intel-cmplr-lib-rt in /usr/local/lib/python3.11/dist-packages (from mkl_umath->numpy->iterative-stratification) (2024.2.0)\n",
            "Requirement already satisfied: intel-cmplr-lib-ur==2024.2.0 in /usr/local/lib/python3.11/dist-packages (from intel-openmp<2026,>=2024->mkl->numpy->iterative-stratification) (2024.2.0)\n",
            "Note: you may need to restart the kernel to use updated packages.\n"
          ]
        }
      ],
      "source": [
        "\n",
        "pip install iterative-stratification"
      ]
    },
    {
      "cell_type": "markdown",
      "metadata": {
        "id": "s20g9Oev9_Yl"
      },
      "source": [
        "Using `MultilabelStratifiedKFold`"
      ]
    },
    {
      "cell_type": "code",
      "execution_count": null,
      "metadata": {
        "execution": {
          "iopub.execute_input": "2025-07-06T09:58:42.805531Z",
          "iopub.status.busy": "2025-07-06T09:58:42.805293Z",
          "iopub.status.idle": "2025-07-06T09:58:42.878075Z",
          "shell.execute_reply": "2025-07-06T09:58:42.877466Z",
          "shell.execute_reply.started": "2025-07-06T09:58:42.805508Z"
        },
        "id": "SlH4Emk09kxX",
        "outputId": "9e13cac5-5e27-417a-dd11-84800e1b445f",
        "trusted": true
      },
      "outputs": [
        {
          "data": {
            "text/plain": [
              "array([[0, 0, 0, 0, 0, 0],\n",
              "       [0, 0, 0, 0, 0, 0],\n",
              "       [0, 0, 0, 0, 0, 0],\n",
              "       ...,\n",
              "       [0, 0, 0, 0, 0, 0],\n",
              "       [0, 0, 0, 0, 0, 0],\n",
              "       [0, 0, 0, 0, 0, 0]])"
            ]
          },
          "execution_count": 4,
          "metadata": {},
          "output_type": "execute_result"
        }
      ],
      "source": [
        "from iterstrat.ml_stratifiers import MultilabelStratifiedKFold\n",
        "\n",
        "# X is the input (we only need index here)\n",
        "X = train_df.index.values\n",
        "# y is the multi-hot encoded label matrix\n",
        "y = train_df[labels].values\n",
        "y"
      ]
    },
    {
      "cell_type": "code",
      "execution_count": null,
      "metadata": {
        "execution": {
          "iopub.execute_input": "2025-07-06T09:58:42.878983Z",
          "iopub.status.busy": "2025-07-06T09:58:42.878707Z",
          "iopub.status.idle": "2025-07-06T09:58:45.333655Z",
          "shell.execute_reply": "2025-07-06T09:58:45.333118Z",
          "shell.execute_reply.started": "2025-07-06T09:58:42.878961Z"
        },
        "id": "wCWJz3F8_3OW",
        "trusted": true
      },
      "outputs": [],
      "source": [
        "mskf = MultilabelStratifiedKFold(n_splits=10, shuffle=True, random_state=42)\n",
        "\n",
        "for train_index, val_index in mskf.split(X, y):\n",
        "  train_split = train_df.iloc[train_index]\n",
        "  val_split = train_df.iloc[val_index]\n",
        "  break"
      ]
    },
    {
      "cell_type": "code",
      "execution_count": null,
      "metadata": {
        "execution": {
          "iopub.execute_input": "2025-07-06T09:58:45.335264Z",
          "iopub.status.busy": "2025-07-06T09:58:45.335038Z",
          "iopub.status.idle": "2025-07-06T09:58:45.463432Z",
          "shell.execute_reply": "2025-07-06T09:58:45.462721Z",
          "shell.execute_reply.started": "2025-07-06T09:58:45.335248Z"
        },
        "trusted": true,
        "id": "klDhr-3fwz0w",
        "outputId": "74a74d08-1fd3-4698-ff07-5d6b5d029796"
      },
      "outputs": [
        {
          "data": {
            "image/png": "[encoded data removed]",
            "text/plain": [
              "<Figure size 800x400 with 1 Axes>"
            ]
          },
          "metadata": {},
          "output_type": "display_data"
        }
      ],
      "source": [
        "plt.figure(figsize=(8,4))\n",
        "train_split[labels].sum().sort_values().plot(kind='barh', color='salmon')\n",
        "plt.title(\"Class Distribution\")\n",
        "plt.show()"
      ]
    },
    {
      "cell_type": "markdown",
      "metadata": {
        "id": "14N1i1FVZpRr"
      },
      "source": [
        "### 2.2 Converting to Hugging Face dataset format"
      ]
    },
    {
      "cell_type": "code",
      "execution_count": null,
      "metadata": {
        "execution": {
          "iopub.execute_input": "2025-07-06T09:58:45.464328Z",
          "iopub.status.busy": "2025-07-06T09:58:45.464162Z",
          "iopub.status.idle": "2025-07-06T09:58:47.343408Z",
          "shell.execute_reply": "2025-07-06T09:58:47.342788Z",
          "shell.execute_reply.started": "2025-07-06T09:58:45.464314Z"
        },
        "id": "0O4U-6loQO7i",
        "outputId": "c65e7725-6fc0-4848-9cf9-1821c8461e9b",
        "trusted": true
      },
      "outputs": [
        {
          "data": {
            "text/plain": [
              "Dataset({\n",
              "    features: ['id', 'comment_text', 'toxic', 'severe_toxic', 'obscene', 'threat', 'insult', 'identity_hate'],\n",
              "    num_rows: 143614\n",
              "})"
            ]
          },
          "execution_count": 7,
          "metadata": {},
          "output_type": "execute_result"
        }
      ],
      "source": [
        "from datasets import Dataset, DatasetDict\n",
        "from sklearn.model_selection import train_test_split\n",
        "\n",
        "# Converting to HF dataset\n",
        "train_dataset = Dataset.from_pandas(train_split.reset_index(drop=True))\n",
        "val_dataset = Dataset.from_pandas(val_split.reset_index(drop=True))\n",
        "\n",
        "train_dataset"
      ]
    },
    {
      "cell_type": "code",
      "execution_count": null,
      "metadata": {
        "execution": {
          "iopub.execute_input": "2025-07-06T09:58:47.344966Z",
          "iopub.status.busy": "2025-07-06T09:58:47.344245Z",
          "iopub.status.idle": "2025-07-06T09:58:47.350139Z",
          "shell.execute_reply": "2025-07-06T09:58:47.349304Z",
          "shell.execute_reply.started": "2025-07-06T09:58:47.344941Z"
        },
        "id": "DRwtYJNzVBE3",
        "outputId": "46ea2f9d-1faf-407e-da93-cbbe9f37450a",
        "trusted": true
      },
      "outputs": [
        {
          "data": {
            "text/plain": [
              "DatasetDict({\n",
              "    train: Dataset({\n",
              "        features: ['id', 'comment_text', 'toxic', 'severe_toxic', 'obscene', 'threat', 'insult', 'identity_hate'],\n",
              "        num_rows: 143614\n",
              "    })\n",
              "    validation: Dataset({\n",
              "        features: ['id', 'comment_text', 'toxic', 'severe_toxic', 'obscene', 'threat', 'insult', 'identity_hate'],\n",
              "        num_rows: 15957\n",
              "    })\n",
              "})"
            ]
          },
          "execution_count": 8,
          "metadata": {},
          "output_type": "execute_result"
        }
      ],
      "source": [
        "# Wrapping into a Dataset Dict\n",
        "dataset = DatasetDict({\n",
        "    \"train\": train_dataset,\n",
        "    \"validation\": val_dataset\n",
        "})\n",
        "dataset"
      ]
    },
    {
      "cell_type": "markdown",
      "metadata": {
        "id": "IMPn6hw9ZSOa"
      },
      "source": [
        "## 3. Tokenization"
      ]
    },
    {
      "cell_type": "markdown",
      "metadata": {
        "id": "RgF4Tg7gZz78"
      },
      "source": [
        "### 3.1 Loading BERT tokenizer"
      ]
    },
    {
      "cell_type": "code",
      "execution_count": null,
      "metadata": {
        "execution": {
          "iopub.execute_input": "2025-07-06T09:58:47.351858Z",
          "iopub.status.busy": "2025-07-06T09:58:47.351215Z",
          "iopub.status.idle": "2025-07-06T09:58:59.752963Z",
          "shell.execute_reply": "2025-07-06T09:58:59.752227Z",
          "shell.execute_reply.started": "2025-07-06T09:58:47.351841Z"
        },
        "id": "kaKDDDURYuYD",
        "outputId": "42628bd8-968c-483f-d133-1ac03d42a86e",
        "scrolled": true,
        "trusted": true,
        "colab": {
          "referenced_widgets": [
            "184e4f0fc8cb463583f832058ff3fbf5",
            "5ddbb79768b54b7e939c2b4856719cc0",
            "a90c004015704ca799afdd8df2897425",
            "1ac8da4abdb04447a5b9fd8e0281a3a5"
          ]
        }
      },
      "outputs": [
        {
          "data": {
            "application/vnd.jupyter.widget-view+json": {
              "model_id": "184e4f0fc8cb463583f832058ff3fbf5",
              "version_major": 2,
              "version_minor": 0
            },
            "text/plain": [
              "tokenizer_config.json:   0%|          | 0.00/48.0 [00:00<?, ?B/s]"
            ]
          },
          "metadata": {},
          "output_type": "display_data"
        },
        {
          "data": {
            "application/vnd.jupyter.widget-view+json": {
              "model_id": "5ddbb79768b54b7e939c2b4856719cc0",
              "version_major": 2,
              "version_minor": 0
            },
            "text/plain": [
              "config.json:   0%|          | 0.00/570 [00:00<?, ?B/s]"
            ]
          },
          "metadata": {},
          "output_type": "display_data"
        },
        {
          "data": {
            "application/vnd.jupyter.widget-view+json": {
              "model_id": "a90c004015704ca799afdd8df2897425",
              "version_major": 2,
              "version_minor": 0
            },
            "text/plain": [
              "vocab.txt:   0%|          | 0.00/232k [00:00<?, ?B/s]"
            ]
          },
          "metadata": {},
          "output_type": "display_data"
        },
        {
          "data": {
            "application/vnd.jupyter.widget-view+json": {
              "model_id": "1ac8da4abdb04447a5b9fd8e0281a3a5",
              "version_major": 2,
              "version_minor": 0
            },
            "text/plain": [
              "tokenizer.json:   0%|          | 0.00/466k [00:00<?, ?B/s]"
            ]
          },
          "metadata": {},
          "output_type": "display_data"
        }
      ],
      "source": [
        "\n",
        "from transformers import AutoTokenizer\n",
        "\n",
        "checkpoint = \"bert-base-uncased\"\n",
        "tokenizer = AutoTokenizer.from_pretrained(checkpoint)"
      ]
    },
    {
      "cell_type": "markdown",
      "metadata": {
        "id": "JKGhz0kiuykD"
      },
      "source": [
        "### 3.2 Create a tokenization and encoding function\n"
      ]
    },
    {
      "cell_type": "code",
      "execution_count": null,
      "metadata": {
        "execution": {
          "iopub.execute_input": "2025-07-06T09:58:59.754281Z",
          "iopub.status.busy": "2025-07-06T09:58:59.753781Z",
          "iopub.status.idle": "2025-07-06T09:58:59.759349Z",
          "shell.execute_reply": "2025-07-06T09:58:59.758600Z",
          "shell.execute_reply.started": "2025-07-06T09:58:59.754257Z"
        },
        "id": "CVXE2-COuykD",
        "trusted": true
      },
      "outputs": [],
      "source": [
        "# Token and Encode Function\n",
        "def preprocess_function(examples):\n",
        "    # Tokenize\n",
        "    tokenized = tokenizer(\n",
        "        examples[\"comment_text\"],\n",
        "        truncation=True,\n",
        "        max_length=128\n",
        "    )\n",
        "\n",
        "    # Attach multilabel targets as floats\n",
        "    tokenized[\"labels\"] = [\n",
        "        [float(examples[label][i]) for label in labels]\n",
        "        for i in range(len(examples[\"comment_text\"]))\n",
        "    ]\n",
        "    return tokenized\n"
      ]
    },
    {
      "cell_type": "markdown",
      "metadata": {
        "id": "z_jzUfA3lS-U"
      },
      "source": [
        "### 3.3 Tokenization/Preprocessing"
      ]
    },
    {
      "cell_type": "code",
      "execution_count": null,
      "metadata": {
        "execution": {
          "iopub.execute_input": "2025-07-06T09:58:59.760381Z",
          "iopub.status.busy": "2025-07-06T09:58:59.760116Z",
          "iopub.status.idle": "2025-07-06T09:59:28.000042Z",
          "shell.execute_reply": "2025-07-06T09:59:27.999462Z",
          "shell.execute_reply.started": "2025-07-06T09:58:59.760360Z"
        },
        "id": "uDpEJRbsbAWo",
        "outputId": "28c59a9a-afb0-48d5-cfaf-5722c6ba7d5f",
        "trusted": true,
        "colab": {
          "referenced_widgets": [
            "7e03cb3eb7d543429ecfd0594af53648",
            "ef739a7550614247b27ed357abbd6608"
          ]
        }
      },
      "outputs": [
        {
          "data": {
            "application/vnd.jupyter.widget-view+json": {
              "model_id": "7e03cb3eb7d543429ecfd0594af53648",
              "version_major": 2,
              "version_minor": 0
            },
            "text/plain": [
              "Map:   0%|          | 0/143614 [00:00<?, ? examples/s]"
            ]
          },
          "metadata": {},
          "output_type": "display_data"
        },
        {
          "data": {
            "application/vnd.jupyter.widget-view+json": {
              "model_id": "ef739a7550614247b27ed357abbd6608",
              "version_major": 2,
              "version_minor": 0
            },
            "text/plain": [
              "Map:   0%|          | 0/15957 [00:00<?, ? examples/s]"
            ]
          },
          "metadata": {},
          "output_type": "display_data"
        },
        {
          "data": {
            "text/plain": [
              "DatasetDict({\n",
              "    train: Dataset({\n",
              "        features: ['id', 'comment_text', 'toxic', 'severe_toxic', 'obscene', 'threat', 'insult', 'identity_hate', 'input_ids', 'token_type_ids', 'attention_mask', 'labels'],\n",
              "        num_rows: 143614\n",
              "    })\n",
              "    validation: Dataset({\n",
              "        features: ['id', 'comment_text', 'toxic', 'severe_toxic', 'obscene', 'threat', 'insult', 'identity_hate', 'input_ids', 'token_type_ids', 'attention_mask', 'labels'],\n",
              "        num_rows: 15957\n",
              "    })\n",
              "})"
            ]
          },
          "execution_count": 11,
          "metadata": {},
          "output_type": "execute_result"
        }
      ],
      "source": [
        "# tokenize the dataset\n",
        "tokenized_dataset = dataset.map(preprocess_function, batched=True)\n",
        "\n",
        "tokenized_dataset"
      ]
    },
    {
      "cell_type": "markdown",
      "metadata": {
        "id": "wuIRXNBYwz0x"
      },
      "source": [
        "\n",
        "Checking how many examples have all labels zero (non-toxic comments)\n"
      ]
    },
    {
      "cell_type": "code",
      "execution_count": null,
      "metadata": {
        "execution": {
          "iopub.execute_input": "2025-07-06T09:59:28.002255Z",
          "iopub.status.busy": "2025-07-06T09:59:28.001972Z",
          "iopub.status.idle": "2025-07-06T09:59:41.884632Z",
          "shell.execute_reply": "2025-07-06T09:59:41.884029Z",
          "shell.execute_reply.started": "2025-07-06T09:59:28.002238Z"
        },
        "trusted": true,
        "id": "ikSIVVzbwz0x",
        "outputId": "f414995f-36b0-4d2a-bc5e-7a4a55d78712",
        "colab": {
          "referenced_widgets": [
            "acc7353b7f4f4e17ab2afdae9e127b8b",
            "9fa644bb04c54c6c98b29403b2711a35"
          ]
        }
      },
      "outputs": [
        {
          "data": {
            "application/vnd.jupyter.widget-view+json": {
              "model_id": "acc7353b7f4f4e17ab2afdae9e127b8b",
              "version_major": 2,
              "version_minor": 0
            },
            "text/plain": [
              "Filter:   0%|          | 0/143614 [00:00<?, ? examples/s]"
            ]
          },
          "metadata": {},
          "output_type": "display_data"
        },
        {
          "data": {
            "application/vnd.jupyter.widget-view+json": {
              "model_id": "9fa644bb04c54c6c98b29403b2711a35",
              "version_major": 2,
              "version_minor": 0
            },
            "text/plain": [
              "Filter:   0%|          | 0/15957 [00:00<?, ? examples/s]"
            ]
          },
          "metadata": {},
          "output_type": "display_data"
        },
        {
          "name": "stdout",
          "output_type": "stream",
          "text": [
            "Examples with all 0 labels: {'train': 129015, 'validation': 14331} out of {'train': 143614, 'validation': 15957}\n"
          ]
        }
      ],
      "source": [
        "\n",
        "def all_zero(example):\n",
        "    return all(label == 0 for label in example[\"labels\"])\n",
        "\n",
        "# Count how many match the conditio\n",
        "num_all_zero = tokenized_dataset.filter(all_zero).num_rows\n",
        "print(f\"Examples with all 0 labels: {num_all_zero} out of {tokenized_dataset.num_rows}\")"
      ]
    },
    {
      "cell_type": "markdown",
      "metadata": {
        "id": "uN_s5tJEbdnW"
      },
      "source": [
        "## 4. Fine-Tuning"
      ]
    },
    {
      "cell_type": "code",
      "execution_count": null,
      "metadata": {
        "execution": {
          "iopub.execute_input": "2025-07-06T09:59:41.885529Z",
          "iopub.status.busy": "2025-07-06T09:59:41.885323Z",
          "iopub.status.idle": "2025-07-06T09:59:58.169462Z",
          "shell.execute_reply": "2025-07-06T09:59:58.168831Z",
          "shell.execute_reply.started": "2025-07-06T09:59:41.885513Z"
        },
        "trusted": true,
        "id": "G7HlpQBHwz0x",
        "outputId": "7b9b5ec2-a407-4a91-a512-a89ba093644e",
        "colab": {
          "referenced_widgets": [
            "b91805cae91a4b9e885ed92582773aaf"
          ]
        }
      },
      "outputs": [
        {
          "name": "stderr",
          "output_type": "stream",
          "text": [
            "2025-07-06 09:59:44.705115: E external/local_xla/xla/stream_executor/cuda/cuda_fft.cc:477] Unable to register cuFFT factory: Attempting to register factory for plugin cuFFT when one has already been registered\n",
            "WARNING: All log messages before absl::InitializeLog() is called are written to STDERR\n",
            "E0000 00:00:1751795984.871717      87 cuda_dnn.cc:8310] Unable to register cuDNN factory: Attempting to register factory for plugin cuDNN when one has already been registered\n",
            "E0000 00:00:1751795984.926502      87 cuda_blas.cc:1418] Unable to register cuBLAS factory: Attempting to register factory for plugin cuBLAS when one has already been registered\n"
          ]
        },
        {
          "data": {
            "application/vnd.jupyter.widget-view+json": {
              "model_id": "b91805cae91a4b9e885ed92582773aaf",
              "version_major": 2,
              "version_minor": 0
            },
            "text/plain": [
              "model.safetensors:   0%|          | 0.00/440M [00:00<?, ?B/s]"
            ]
          },
          "metadata": {},
          "output_type": "display_data"
        },
        {
          "name": "stderr",
          "output_type": "stream",
          "text": [
            "Some weights of BertForSequenceClassification were not initialized from the model checkpoint at bert-base-uncased and are newly initialized: ['classifier.bias', 'classifier.weight']\n",
            "You should probably TRAIN this model on a down-stream task to be able to use it for predictions and inference.\n"
          ]
        }
      ],
      "source": [
        "\n",
        "from transformers import AutoModelForSequenceClassification\n",
        "\n",
        "model = AutoModelForSequenceClassification.from_pretrained(\n",
        "    checkpoint,\n",
        "    num_labels=len(labels),\n",
        "    problem_type='multi_label_classification'\n",
        ")"
      ]
    },
    {
      "cell_type": "markdown",
      "metadata": {
        "id": "euW8-bRmuykE"
      },
      "source": [
        "### 4.4 Dynamic Padding"
      ]
    },
    {
      "cell_type": "code",
      "execution_count": null,
      "metadata": {
        "execution": {
          "iopub.execute_input": "2025-07-06T09:59:58.170569Z",
          "iopub.status.busy": "2025-07-06T09:59:58.170108Z",
          "iopub.status.idle": "2025-07-06T09:59:58.216550Z",
          "shell.execute_reply": "2025-07-06T09:59:58.216052Z",
          "shell.execute_reply.started": "2025-07-06T09:59:58.170552Z"
        },
        "id": "hiEM6fjuEfhK",
        "trusted": true
      },
      "outputs": [],
      "source": [
        "\n",
        "from transformers import DataCollatorWithPadding\n",
        "\n",
        "data_collator = DataCollatorWithPadding(tokenizer=tokenizer)"
      ]
    },
    {
      "cell_type": "markdown",
      "metadata": {
        "id": "6xejbJqEa1e-"
      },
      "source": [
        "### 4.4 Defining Metrics Function"
      ]
    },
    {
      "cell_type": "code",
      "execution_count": null,
      "metadata": {
        "execution": {
          "iopub.execute_input": "2025-07-06T09:59:58.217427Z",
          "iopub.status.busy": "2025-07-06T09:59:58.217226Z",
          "iopub.status.idle": "2025-07-06T09:59:58.223092Z",
          "shell.execute_reply": "2025-07-06T09:59:58.222377Z",
          "shell.execute_reply.started": "2025-07-06T09:59:58.217412Z"
        },
        "id": "_54UOhkoa7WB",
        "trusted": true
      },
      "outputs": [],
      "source": [
        "# Setup compute_metrics function\n",
        "from sklearn.metrics import f1_score, precision_score, recall_score, hamming_loss, roc_auc_score\n",
        "import numpy as np\n",
        "\n",
        "def compute_metrics(eval_pred):\n",
        "    logits = eval_pred.predictions\n",
        "    labels = eval_pred.label_ids\n",
        "    logits, labels = eval_pred\n",
        "    probs = 1 / (1 + np.exp(-logits))  # sigmoid for multilabel\n",
        "    preds = (probs >= 0.4).astype(int)\n",
        "    labels = labels.astype(int)\n",
        "\n",
        "\n",
        "    results = {\n",
        "        \"micro_f1\": f1_score(labels, preds, average='micro'),\n",
        "        \"macro_f1\": f1_score(labels, preds, average='macro'),\n",
        "        \"precision\": precision_score(labels, preds, average='macro', zero_division=0),\n",
        "        \"recall\": recall_score(labels, preds, average='macro', zero_division=0),\n",
        "        \"hamming_loss\": hamming_loss(labels, preds),\n",
        "    }\n",
        "\n",
        "    # Add ROC AUC\n",
        "    try:\n",
        "        results[\"roc_auc_macro\"] = roc_auc_score(labels, probs, average='macro')\n",
        "        results[\"roc_auc_micro\"] = roc_auc_score(labels, probs, average='micro')\n",
        "    except ValueError:\n",
        "        # Handle case where some classes have no positive samples\n",
        "        results[\"roc_auc_macro\"] = 0.0\n",
        "        results[\"roc_auc_micro\"] = 0.0\n",
        "\n",
        "    return results\n"
      ]
    },
    {
      "cell_type": "markdown",
      "metadata": {
        "id": "yUVnQHMAwz0y"
      },
      "source": [
        "### 4.5 Setup `wandb`"
      ]
    },
    {
      "cell_type": "code",
      "execution_count": null,
      "metadata": {
        "execution": {
          "iopub.execute_input": "2025-07-06T09:59:58.224024Z",
          "iopub.status.busy": "2025-07-06T09:59:58.223808Z",
          "iopub.status.idle": "2025-07-06T10:12:02.396088Z",
          "shell.execute_reply": "2025-07-06T10:12:02.395335Z",
          "shell.execute_reply.started": "2025-07-06T09:59:58.224010Z"
        },
        "trusted": true,
        "id": "BnFh8-ugwz0y",
        "outputId": "5cd51270-d7a3-413b-a331-76f02a297389"
      },
      "outputs": [
        {
          "name": "stdout",
          "output_type": "stream",
          "text": [
            "Enter your wandb access token:  ········\n"
          ]
        },
        {
          "name": "stderr",
          "output_type": "stream",
          "text": [
            "\u001b[34m\u001b[1mwandb\u001b[0m: Using wandb-core as the SDK backend.  Please refer to https://wandb.me/wandb-core for more information.\n",
            "\u001b[34m\u001b[1mwandb\u001b[0m: \u001b[33mWARNING\u001b[0m If you're specifying your api key in code, ensure this code is not shared publicly.\n",
            "\u001b[34m\u001b[1mwandb\u001b[0m: \u001b[33mWARNING\u001b[0m Consider setting the WANDB_API_KEY environment variable, or running `wandb login` from the command line.\n",
            "\u001b[34m\u001b[1mwandb\u001b[0m: No netrc file found, creating one.\n",
            "\u001b[34m\u001b[1mwandb\u001b[0m: Appending key for api.wandb.ai to your netrc file: /root/.netrc\n",
            "\u001b[34m\u001b[1mwandb\u001b[0m: Currently logged in as: \u001b[33mdipesh1dp\u001b[0m (\u001b[33mdipesh1dp-purwanchal-campu\u001b[0m) to \u001b[32mhttps://api.wandb.ai\u001b[0m. Use \u001b[1m`wandb login --relogin`\u001b[0m to force relogin\n"
          ]
        },
        {
          "data": {
            "text/plain": [
              "True"
            ]
          },
          "execution_count": 16,
          "metadata": {},
          "output_type": "execute_result"
        }
      ],
      "source": [
        "import wandb\n",
        "from getpass import getpass\n",
        "\n",
        "# Manually enter your token (hidden input)\n",
        "wandb_token = getpass(\"Enter your wandb access token: \")\n",
        "\n",
        "# Log in using API\n",
        "wandb.login(key=wandb_token)"
      ]
    },
    {
      "cell_type": "markdown",
      "metadata": {
        "id": "Np62yo27a88g"
      },
      "source": [
        "### 4.6 Training Arguments + Trainer"
      ]
    },
    {
      "cell_type": "code",
      "execution_count": null,
      "metadata": {
        "execution": {
          "iopub.execute_input": "2025-07-06T10:12:29.047915Z",
          "iopub.status.busy": "2025-07-06T10:12:29.047345Z",
          "iopub.status.idle": "2025-07-06T10:12:29.395621Z",
          "shell.execute_reply": "2025-07-06T10:12:29.395024Z",
          "shell.execute_reply.started": "2025-07-06T10:12:29.047892Z"
        },
        "id": "eid3Nnq6a_uV",
        "trusted": true
      },
      "outputs": [],
      "source": [
        "\n",
        "from transformers import Trainer, TrainingArguments\n",
        "\n",
        "training_args = TrainingArguments(\n",
        "    output_dir=\"./checkpoints-toxic\",\n",
        "    fp16=True,\n",
        "    report_to=\"wandb\",\n",
        "    run_name=\"bert-finetune-toxic-4\",\n",
        "    eval_strategy=\"epoch\",\n",
        "    save_strategy=\"epoch\",   # <-- Save every epoch\n",
        "    learning_rate=2e-5,      # <-- Keep only recent checkpoints\n",
        "    per_device_train_batch_size=16,\n",
        "    per_device_eval_batch_size=32,\n",
        "    num_train_epochs=5,\n",
        "    weight_decay=0.01,\n",
        "    load_best_model_at_end=True,\n",
        "    metric_for_best_model=\"macro_f1\",\n",
        "    save_total_limit=2,\n",
        "    disable_tqdm=False                      # Show progress bar\n",
        ")\n",
        "\n",
        "\n",
        "trainer = Trainer(\n",
        "    model = model,\n",
        "    processing_class=tokenizer,\n",
        "    args = training_args,\n",
        "    train_dataset=tokenized_dataset[\"train\"],\n",
        "    eval_dataset=tokenized_dataset[\"validation\"],\n",
        "    data_collator=data_collator,\n",
        "    compute_metrics=compute_metrics,\n",
        ")"
      ]
    },
    {
      "cell_type": "markdown",
      "metadata": {
        "id": "bYDraZCWbJV6"
      },
      "source": [
        "### 4.6 Train"
      ]
    },
    {
      "cell_type": "code",
      "execution_count": null,
      "metadata": {
        "execution": {
          "iopub.execute_input": "2025-07-06T10:12:38.189484Z",
          "iopub.status.busy": "2025-07-06T10:12:38.188864Z",
          "iopub.status.idle": "2025-07-06T12:45:19.772024Z",
          "shell.execute_reply": "2025-07-06T12:45:19.771270Z",
          "shell.execute_reply.started": "2025-07-06T10:12:38.189461Z"
        },
        "id": "9mhTsDfqbLep",
        "outputId": "7b6658bf-618f-4116-a38a-e6f2868efc3f",
        "trusted": true
      },
      "outputs": [
        {
          "data": {
            "text/html": [
              "Tracking run with wandb version 0.19.9"
            ],
            "text/plain": [
              "<IPython.core.display.HTML object>"
            ]
          },
          "metadata": {},
          "output_type": "display_data"
        },
        {
          "data": {
            "text/html": [
              "Run data is saved locally in <code>/kaggle/working/wandb/run-20250706_101238-o88icp5i</code>"
            ],
            "text/plain": [
              "<IPython.core.display.HTML object>"
            ]
          },
          "metadata": {},
          "output_type": "display_data"
        },
        {
          "data": {
            "text/html": [
              "Syncing run <strong><a href='https://wandb.ai/dipesh1dp-purwanchal-campu/huggingface/runs/o88icp5i' target=\"_blank\">bert-finetune-toxic-4</a></strong> to <a href='https://wandb.ai/dipesh1dp-purwanchal-campu/huggingface' target=\"_blank\">Weights & Biases</a> (<a href='https://wandb.me/developer-guide' target=\"_blank\">docs</a>)<br>"
            ],
            "text/plain": [
              "<IPython.core.display.HTML object>"
            ]
          },
          "metadata": {},
          "output_type": "display_data"
        },
        {
          "data": {
            "text/html": [
              " View project at <a href='https://wandb.ai/dipesh1dp-purwanchal-campu/huggingface' target=\"_blank\">https://wandb.ai/dipesh1dp-purwanchal-campu/huggingface</a>"
            ],
            "text/plain": [
              "<IPython.core.display.HTML object>"
            ]
          },
          "metadata": {},
          "output_type": "display_data"
        },
        {
          "data": {
            "text/html": [
              " View run at <a href='https://wandb.ai/dipesh1dp-purwanchal-campu/huggingface/runs/o88icp5i' target=\"_blank\">https://wandb.ai/dipesh1dp-purwanchal-campu/huggingface/runs/o88icp5i</a>"
            ],
            "text/plain": [
              "<IPython.core.display.HTML object>"
            ]
          },
          "metadata": {},
          "output_type": "display_data"
        },
        {
          "data": {
            "text/html": [
              "\n",
              "    <div>\n",
              "      \n",
              "      <progress value='44880' max='44880' style='width:300px; height:20px; vertical-align: middle;'></progress>\n",
              "      [44880/44880 2:32:33, Epoch 5/5]\n",
              "    </div>\n",
              "    <table border=\"1\" class=\"dataframe\">\n",
              "  <thead>\n",
              " <tr style=\"text-align: left;\">\n",
              "      <th>Epoch</th>\n",
              "      <th>Training Loss</th>\n",
              "      <th>Validation Loss</th>\n",
              "      <th>Micro F1</th>\n",
              "      <th>Macro F1</th>\n",
              "      <th>Precision</th>\n",
              "      <th>Recall</th>\n",
              "      <th>Hamming Loss</th>\n",
              "      <th>Roc Auc Macro</th>\n",
              "      <th>Roc Auc Micro</th>\n",
              "      <th>Runtime</th>\n",
              "      <th>Samples Per Second</th>\n",
              "      <th>Steps Per Second</th>\n",
              "    </tr>\n",
              "  </thead>\n",
              "  <tbody>\n",
              "    <tr>\n",
              "      <td>1</td>\n",
              "      <td>0.041100</td>\n",
              "      <td>0.038554</td>\n",
              "      <td>0.785654</td>\n",
              "      <td>0.632359</td>\n",
              "      <td>0.679378</td>\n",
              "      <td>0.637917</td>\n",
              "      <td>0.015918</td>\n",
              "      <td>0.988511</td>\n",
              "      <td>0.991905</td>\n",
              "      <td>56.271800</td>\n",
              "      <td>283.570000</td>\n",
              "      <td>8.868000</td>\n",
              "    </tr>\n",
              "    <tr>\n",
              "      <td>2</td>\n",
              "      <td>0.033300</td>\n",
              "      <td>0.039169</td>\n",
              "      <td>0.795081</td>\n",
              "      <td>0.678849</td>\n",
              "      <td>0.693427</td>\n",
              "      <td>0.674944</td>\n",
              "      <td>0.015490</td>\n",
              "      <td>0.988311</td>\n",
              "      <td>0.991712</td>\n",
              "      <td>55.747200</td>\n",
              "      <td>286.239000</td>\n",
              "      <td>8.951000</td>\n",
              "    </tr>\n",
              "    <tr>\n",
              "      <td>3</td>\n",
              "      <td>0.024800</td>\n",
              "      <td>0.044270</td>\n",
              "      <td>0.785545</td>\n",
              "      <td>0.690982</td>\n",
              "      <td>0.631213</td>\n",
              "      <td>0.775650</td>\n",
              "      <td>0.016983</td>\n",
              "      <td>0.989067</td>\n",
              "      <td>0.991172</td>\n",
              "      <td>55.823500</td>\n",
              "      <td>285.847000</td>\n",
              "      <td>8.939000</td>\n",
              "    </tr>\n",
              "    <tr>\n",
              "      <td>4</td>\n",
              "      <td>0.016000</td>\n",
              "      <td>0.052118</td>\n",
              "      <td>0.784465</td>\n",
              "      <td>0.691238</td>\n",
              "      <td>0.658448</td>\n",
              "      <td>0.729504</td>\n",
              "      <td>0.016346</td>\n",
              "      <td>0.987536</td>\n",
              "      <td>0.989168</td>\n",
              "      <td>56.085500</td>\n",
              "      <td>284.512000</td>\n",
              "      <td>8.897000</td>\n",
              "    </tr>\n",
              "    <tr>\n",
              "      <td>5</td>\n",
              "      <td>0.010100</td>\n",
              "      <td>0.058526</td>\n",
              "      <td>0.781811</td>\n",
              "      <td>0.687897</td>\n",
              "      <td>0.658318</td>\n",
              "      <td>0.722763</td>\n",
              "      <td>0.016388</td>\n",
              "      <td>0.986001</td>\n",
              "      <td>0.987920</td>\n",
              "      <td>55.766800</td>\n",
              "      <td>286.138000</td>\n",
              "      <td>8.948000</td>\n",
              "    </tr>\n",
              "  </tbody>\n",
              "</table><p>"
            ],
            "text/plain": [
              "<IPython.core.display.HTML object>"
            ]
          },
          "metadata": {},
          "output_type": "display_data"
        },
        {
          "data": {
            "text/plain": [
              "TrainOutput(global_step=44880, training_loss=0.026582102968943522, metrics={'train_runtime': 9161.1033, 'train_samples_per_second': 78.382, 'train_steps_per_second': 4.899, 'total_flos': 4.700929028863219e+16, 'train_loss': 0.026582102968943522, 'epoch': 5.0})"
            ]
          },
          "execution_count": 21,
          "metadata": {},
          "output_type": "execute_result"
        }
      ],
      "source": [
        "\n",
        "trainer.train()"
      ]
    },
    {
      "cell_type": "code",
      "execution_count": null,
      "metadata": {
        "execution": {
          "iopub.execute_input": "2025-07-06T12:47:06.101011Z",
          "iopub.status.busy": "2025-07-06T12:47:06.100686Z",
          "iopub.status.idle": "2025-07-06T12:47:07.062240Z",
          "shell.execute_reply": "2025-07-06T12:47:07.061419Z",
          "shell.execute_reply.started": "2025-07-06T12:47:06.100991Z"
        },
        "trusted": true,
        "id": "h3gtoR5xwz0y"
      },
      "outputs": [],
      "source": [
        "\n",
        "trainer.save_model(\"./best-toxic-model\")"
      ]
    },
    {
      "cell_type": "markdown",
      "metadata": {
        "id": "EAhxgsGQbqg6"
      },
      "source": [
        "## 5. Saving Model and Tokenizer"
      ]
    },
    {
      "cell_type": "code",
      "execution_count": null,
      "metadata": {
        "execution": {
          "iopub.execute_input": "2025-07-06T12:47:11.010109Z",
          "iopub.status.busy": "2025-07-06T12:47:11.009588Z",
          "iopub.status.idle": "2025-07-06T12:47:11.031142Z",
          "shell.execute_reply": "2025-07-06T12:47:11.030358Z",
          "shell.execute_reply.started": "2025-07-06T12:47:11.010087Z"
        },
        "trusted": true,
        "id": "1hBNlyfPwz02",
        "outputId": "4cbd6050-bc8e-42df-a29f-6c3b9fbd82e6",
        "colab": {
          "referenced_widgets": [
            "7bf66c1b9ddf4d0fb23fc5c30df135af"
          ]
        }
      },
      "outputs": [
        {
          "data": {
            "application/vnd.jupyter.widget-view+json": {
              "model_id": "7bf66c1b9ddf4d0fb23fc5c30df135af",
              "version_major": 2,
              "version_minor": 0
            },
            "text/plain": [
              "VBox(children=(HTML(value='<center> <img\\nsrc=https://huggingface.co/front/assets/huggingface_logo-noborder.sv…"
            ]
          },
          "metadata": {},
          "output_type": "display_data"
        }
      ],
      "source": [
        "\n",
        "from huggingface_hub import login\n",
        "\n",
        "login()"
      ]
    },
    {
      "cell_type": "code",
      "execution_count": null,
      "metadata": {
        "execution": {
          "iopub.execute_input": "2025-07-06T12:47:35.848939Z",
          "iopub.status.busy": "2025-07-06T12:47:35.848243Z",
          "iopub.status.idle": "2025-07-06T12:48:00.438125Z",
          "shell.execute_reply": "2025-07-06T12:48:00.437542Z",
          "shell.execute_reply.started": "2025-07-06T12:47:35.848914Z"
        },
        "trusted": true,
        "id": "lJ2uoHkHwz03",
        "outputId": "88c11f4c-e185-4cf1-9ab4-38e467880122",
        "colab": {
          "referenced_widgets": [
            "8b59464855164b399595b25718b9c084",
            "1fa9f2589cf14c66b6cb8797584ef18c",
            "36232d35e1ee4bb98ee837947b965ac3"
          ]
        }
      },
      "outputs": [
        {
          "data": {
            "application/vnd.jupyter.widget-view+json": {
              "model_id": "8b59464855164b399595b25718b9c084",
              "version_major": 2,
              "version_minor": 0
            },
            "text/plain": [
              "Upload 2 LFS files:   0%|          | 0/2 [00:00<?, ?it/s]"
            ]
          },
          "metadata": {},
          "output_type": "display_data"
        },
        {
          "data": {
            "application/vnd.jupyter.widget-view+json": {
              "model_id": "1fa9f2589cf14c66b6cb8797584ef18c",
              "version_major": 2,
              "version_minor": 0
            },
            "text/plain": [
              "model.safetensors:   0%|          | 0.00/438M [00:00<?, ?B/s]"
            ]
          },
          "metadata": {},
          "output_type": "display_data"
        },
        {
          "data": {
            "application/vnd.jupyter.widget-view+json": {
              "model_id": "36232d35e1ee4bb98ee837947b965ac3",
              "version_major": 2,
              "version_minor": 0
            },
            "text/plain": [
              "training_args.bin:   0%|          | 0.00/5.37k [00:00<?, ?B/s]"
            ]
          },
          "metadata": {},
          "output_type": "display_data"
        },
        {
          "data": {
            "text/plain": [
              "CommitInfo(commit_url='https://huggingface.co/dipeshpandit/checkpoints-toxic/commit/ec1f5c9b9eafdeae9824b4794c8a60e52130a096', commit_message='End of training', commit_description='', oid='ec1f5c9b9eafdeae9824b4794c8a60e52130a096', pr_url=None, repo_url=RepoUrl('https://huggingface.co/dipeshpandit/checkpoints-toxic', endpoint='https://huggingface.co', repo_type='model', repo_id='dipeshpandit/checkpoints-toxic'), pr_revision=None, pr_num=None)"
            ]
          },
          "execution_count": 26,
          "metadata": {},
          "output_type": "execute_result"
        }
      ],
      "source": [
        "\n",
        "trainer.push_to_hub()"
      ]
    },
    {
      "cell_type": "markdown",
      "metadata": {
        "id": "s_9bLMRzwz03"
      },
      "source": [
        "# Model Evaluation"
      ]
    },
    {
      "cell_type": "markdown",
      "metadata": {
        "id": "0IfJG6Krwz03"
      },
      "source": [
        "### Test data preprocessing"
      ]
    },
    {
      "cell_type": "code",
      "execution_count": null,
      "metadata": {
        "execution": {
          "iopub.execute_input": "2025-07-06T13:33:19.920927Z",
          "iopub.status.busy": "2025-07-06T13:33:19.920043Z",
          "iopub.status.idle": "2025-07-06T13:33:20.406506Z",
          "shell.execute_reply": "2025-07-06T13:33:20.405956Z",
          "shell.execute_reply.started": "2025-07-06T13:33:19.920897Z"
        },
        "trusted": true,
        "id": "bO82Ee8pwz03"
      },
      "outputs": [],
      "source": [
        "\n",
        "from datasets import Dataset\n",
        "\n",
        "test_dataset = Dataset.from_pandas(test_df)\n"
      ]
    },
    {
      "cell_type": "code",
      "execution_count": null,
      "metadata": {
        "execution": {
          "iopub.execute_input": "2025-07-06T13:33:29.050699Z",
          "iopub.status.busy": "2025-07-06T13:33:29.050045Z",
          "iopub.status.idle": "2025-07-06T13:33:31.237434Z",
          "shell.execute_reply": "2025-07-06T13:33:31.236718Z",
          "shell.execute_reply.started": "2025-07-06T13:33:29.050678Z"
        },
        "trusted": true,
        "id": "oV1oZuV_wz03",
        "outputId": "9dab6939-cea5-479b-ff6d-0d439038c40a"
      },
      "outputs": [
        {
          "data": {
            "text/plain": [
              "{'id': '00013b17ad220c46',\n",
              " 'comment_text': '\" \\n\\n == Sources == \\n\\n * Zawe Ashton on Lapland —  /  \"',\n",
              " 'labels': [-1.0, -1.0, -1.0, -1.0, -1.0, -1.0]}"
            ]
          },
          "execution_count": 34,
          "metadata": {},
          "output_type": "execute_result"
        }
      ],
      "source": [
        "\n",
        "import numpy as np\n",
        "\n",
        "# Add labels to test_dataset\n",
        "test_labels = test_labels_df[labels].values.astype(np.float32)\n",
        "test_dataset = test_dataset.add_column('labels', test_labels.tolist())\n",
        "test_dataset[2]"
      ]
    },
    {
      "cell_type": "markdown",
      "metadata": {
        "id": "clNYV0H7wz03"
      },
      "source": [
        "Let's check how many examples are unlabelled as\n",
        "\n",
        "``` labels: [-1.0, -1.0, -1.0, -1.0, -1.0, -1.0] ```"
      ]
    },
    {
      "cell_type": "code",
      "execution_count": null,
      "metadata": {
        "execution": {
          "iopub.execute_input": "2025-07-06T13:33:36.022846Z",
          "iopub.status.busy": "2025-07-06T13:33:36.022560Z",
          "iopub.status.idle": "2025-07-06T13:33:37.297709Z",
          "shell.execute_reply": "2025-07-06T13:33:37.296961Z",
          "shell.execute_reply.started": "2025-07-06T13:33:36.022826Z"
        },
        "trusted": true,
        "id": "_lujWV7Zwz03",
        "outputId": "f524d28b-b6c2-473d-9708-6c9cf89a9572",
        "colab": {
          "referenced_widgets": [
            "a38e12e6c1744bba856a2dcf2db92e83"
          ]
        }
      },
      "outputs": [
        {
          "data": {
            "application/vnd.jupyter.widget-view+json": {
              "model_id": "a38e12e6c1744bba856a2dcf2db92e83",
              "version_major": 2,
              "version_minor": 0
            },
            "text/plain": [
              "Filter:   0%|          | 0/153164 [00:00<?, ? examples/s]"
            ]
          },
          "metadata": {},
          "output_type": "display_data"
        },
        {
          "name": "stdout",
          "output_type": "stream",
          "text": [
            "Examples with all -1 labels: 89186 out of 153164\n"
          ]
        }
      ],
      "source": [
        "def all_neg1(example):\n",
        "    return all(label == -1 for label in example[\"labels\"])\n",
        "\n",
        "# Count how many match the conditio\n",
        "num_all_neg1 = test_dataset.filter(all_neg1).num_rows\n",
        "print(f\"Examples with all -1 labels: {num_all_neg1} out of {test_dataset.num_rows}\")"
      ]
    },
    {
      "cell_type": "code",
      "execution_count": null,
      "metadata": {
        "execution": {
          "iopub.execute_input": "2025-07-06T13:33:39.457999Z",
          "iopub.status.busy": "2025-07-06T13:33:39.457713Z",
          "iopub.status.idle": "2025-07-06T13:33:40.669651Z",
          "shell.execute_reply": "2025-07-06T13:33:40.669122Z",
          "shell.execute_reply.started": "2025-07-06T13:33:39.457980Z"
        },
        "trusted": true,
        "id": "jzOwkjK8wz04",
        "outputId": "535007c2-090b-47e3-c932-40005f7ff944",
        "colab": {
          "referenced_widgets": [
            "3b6de0e667b7492bb68eaf1bafd82cf0"
          ]
        }
      },
      "outputs": [
        {
          "data": {
            "application/vnd.jupyter.widget-view+json": {
              "model_id": "3b6de0e667b7492bb68eaf1bafd82cf0",
              "version_major": 2,
              "version_minor": 0
            },
            "text/plain": [
              "Filter:   0%|          | 0/153164 [00:00<?, ? examples/s]"
            ]
          },
          "metadata": {},
          "output_type": "display_data"
        },
        {
          "data": {
            "text/plain": [
              "{'id': '0002f87b16116a7f',\n",
              " 'comment_text': '\"::: Somebody will invariably try to add Religion?  Really??  You mean, the way people have invariably kept adding \"\"Religion\"\" to the Samuel Beckett infobox?  And why do you bother bringing up the long-dead completely non-existent \"\"Influences\"\" issue?  You\\'re just flailing, making up crap on the fly. \\n ::: For comparison, the only explicit acknowledgement in the entire Amos Oz article that he is personally Jewish is in the categories!    \\n\\n \"',\n",
              " 'labels': [0.0, 0.0, 0.0, 0.0, 0.0, 0.0]}"
            ]
          },
          "execution_count": 36,
          "metadata": {},
          "output_type": "execute_result"
        }
      ],
      "source": [
        "# Remove the examples having all -1 labels\n",
        "def has_valid_labels(example):\n",
        "    return any(label != -1 for label in example[\"labels\"])\n",
        "\n",
        "test_dataset = test_dataset.filter(has_valid_labels)\n",
        "test_dataset[2]"
      ]
    },
    {
      "cell_type": "code",
      "execution_count": null,
      "metadata": {
        "execution": {
          "iopub.execute_input": "2025-07-06T13:35:58.945766Z",
          "iopub.status.busy": "2025-07-06T13:35:58.945117Z",
          "iopub.status.idle": "2025-07-06T13:35:58.950218Z",
          "shell.execute_reply": "2025-07-06T13:35:58.949662Z",
          "shell.execute_reply.started": "2025-07-06T13:35:58.945720Z"
        },
        "trusted": true,
        "id": "2qPS-jr7wz04"
      },
      "outputs": [],
      "source": [
        "\n",
        "def tokenize_function(examples):\n",
        "    return tokenizer(examples['comment_text'], truncation=True, max_length=128)"
      ]
    },
    {
      "cell_type": "code",
      "execution_count": null,
      "metadata": {
        "execution": {
          "iopub.execute_input": "2025-07-06T13:35:59.946875Z",
          "iopub.status.busy": "2025-07-06T13:35:59.946031Z",
          "iopub.status.idle": "2025-07-06T13:36:11.885670Z",
          "shell.execute_reply": "2025-07-06T13:36:11.885110Z",
          "shell.execute_reply.started": "2025-07-06T13:35:59.946840Z"
        },
        "trusted": true,
        "id": "kNF3n49Bwz04",
        "outputId": "a3d129fe-966d-4522-e350-2d4baeeb5055",
        "colab": {
          "referenced_widgets": [
            "d62c28ac20ed4bdd96fae293e49dbbe7"
          ]
        }
      },
      "outputs": [
        {
          "data": {
            "application/vnd.jupyter.widget-view+json": {
              "model_id": "d62c28ac20ed4bdd96fae293e49dbbe7",
              "version_major": 2,
              "version_minor": 0
            },
            "text/plain": [
              "Map:   0%|          | 0/63978 [00:00<?, ? examples/s]"
            ]
          },
          "metadata": {},
          "output_type": "display_data"
        }
      ],
      "source": [
        "\n",
        "test_dataset = test_dataset.map(tokenize_function, batched=True)"
      ]
    },
    {
      "cell_type": "markdown",
      "metadata": {
        "id": "kelvcJKOwz04"
      },
      "source": [
        "## 1. Per Label Threshold Analysis"
      ]
    },
    {
      "cell_type": "code",
      "execution_count": null,
      "metadata": {
        "execution": {
          "iopub.execute_input": "2025-07-06T13:40:11.950539Z",
          "iopub.status.busy": "2025-07-06T13:40:11.949950Z",
          "iopub.status.idle": "2025-07-06T13:40:11.956868Z",
          "shell.execute_reply": "2025-07-06T13:40:11.956166Z",
          "shell.execute_reply.started": "2025-07-06T13:40:11.950519Z"
        },
        "trusted": true,
        "id": "nq_enXAmwz04"
      },
      "outputs": [],
      "source": [
        "\n",
        "import numpy as np\n",
        "from sklearn.metrics import f1_score\n",
        "\n",
        "def find_optimal_thresholds(y_true, y_probs, step=0.01):\n",
        "    \"\"\"\n",
        "    Finds the best threshold per label to maximize F1 score.\n",
        "\n",
        "    Args:\n",
        "        y_true: np.array of shape (n_samples, n_labels)\n",
        "        y_probs: np.array of shape (n_samples, n_labels) - model output after sigmoid\n",
        "        step: float - step size for threshold search\n",
        "\n",
        "    Returns:\n",
        "        thresholds: list of optimal threshold per label\n",
        "    \"\"\"\n",
        "    n_labels = y_true.shape[1]\n",
        "    thresholds = []\n",
        "\n",
        "    for i in range(n_labels):\n",
        "        best_thresh = 0.5\n",
        "        best_f1 = 0.0\n",
        "        for t in np.arange(0.1, 0.9 + step, step):\n",
        "            preds = (y_probs[:, i] >= t).astype(int)\n",
        "            f1 = f1_score(y_true[:, i], preds, zero_division=0)\n",
        "            if f1 > best_f1:\n",
        "                best_f1 = f1\n",
        "                best_thresh = t\n",
        "        thresholds.append(best_thresh)\n",
        "        print(f\"Label {i}: Best threshold = {best_thresh:.2f} | F1 = {best_f1:.4f}\")\n",
        "\n",
        "    return thresholds\n"
      ]
    },
    {
      "cell_type": "code",
      "execution_count": null,
      "metadata": {
        "execution": {
          "iopub.execute_input": "2025-07-06T13:41:36.106719Z",
          "iopub.status.busy": "2025-07-06T13:41:36.105937Z",
          "iopub.status.idle": "2025-07-06T13:42:37.596339Z",
          "shell.execute_reply": "2025-07-06T13:42:37.595478Z",
          "shell.execute_reply.started": "2025-07-06T13:41:36.106697Z"
        },
        "trusted": true,
        "id": "kpH2jvL2wz04",
        "outputId": "06d52761-58ea-4863-f937-1a75bf97f8ba"
      },
      "outputs": [
        {
          "data": {
            "text/html": [],
            "text/plain": [
              "<IPython.core.display.HTML object>"
            ]
          },
          "metadata": {},
          "output_type": "display_data"
        },
        {
          "name": "stdout",
          "output_type": "stream",
          "text": [
            "Label 0: Best threshold = 0.69 | F1 = 0.8264\n",
            "Label 1: Best threshold = 0.44 | F1 = 0.5238\n",
            "Label 2: Best threshold = 0.60 | F1 = 0.8321\n",
            "Label 3: Best threshold = 0.47 | F1 = 0.6316\n",
            "Label 4: Best threshold = 0.32 | F1 = 0.7713\n",
            "Label 5: Best threshold = 0.55 | F1 = 0.6280\n"
          ]
        }
      ],
      "source": [
        "\n",
        "import torch\n",
        "\n",
        "# y_probs: logits from model output, apply sigmoid\n",
        "logits = trainer.predict(tokenized_dataset[\"validation\"]).predictions\n",
        "y_probs = torch.sigmoid(torch.tensor(logits)).numpy()\n",
        "\n",
        "# y_true: ground truth multilabels (should be 0/1 matrix)\n",
        "y_true = tokenized_dataset[\"validation\"][\"labels\"]\n",
        "y_true = np.array(y_true)\n",
        "\n",
        "# Find optimal thresholds\n",
        "optimal_thresholds = find_optimal_thresholds(y_true, y_probs)\n"
      ]
    },
    {
      "cell_type": "markdown",
      "metadata": {
        "id": "JOwV1FTjwz04"
      },
      "source": [
        "Per label threshold on validation data:\n",
        "```\n",
        "Label 0: Best threshold = 0.69 | F1 = 0.8264\n",
        "Label 1: Best threshold = 0.44 | F1 = 0.5238\n",
        "Label 2: Best threshold = 0.60 | F1 = 0.8321\n",
        "Label 3: Best threshold = 0.47 | F1 = 0.6316\n",
        "Label 4: Best threshold = 0.32 | F1 = 0.7713\n",
        "Label 5: Best threshold = 0.55 | F1 = 0.6280\n",
        "```"
      ]
    },
    {
      "cell_type": "code",
      "execution_count": null,
      "metadata": {
        "execution": {
          "iopub.execute_input": "2025-07-06T13:49:01.410253Z",
          "iopub.status.busy": "2025-07-06T13:49:01.409471Z",
          "iopub.status.idle": "2025-07-06T13:49:01.415064Z",
          "shell.execute_reply": "2025-07-06T13:49:01.414523Z",
          "shell.execute_reply.started": "2025-07-06T13:49:01.410227Z"
        },
        "trusted": true,
        "id": "Rc4h-_GWwz04"
      },
      "outputs": [],
      "source": [
        "\n",
        "import json\n",
        "\n",
        "with open(\"optimal_thresholds.json\", \"w\") as f:\n",
        "    json.dump(optimal_thresholds, f)\n"
      ]
    },
    {
      "cell_type": "code",
      "execution_count": null,
      "metadata": {
        "execution": {
          "iopub.execute_input": "2025-07-06T13:57:40.526704Z",
          "iopub.status.busy": "2025-07-06T13:57:40.525997Z",
          "iopub.status.idle": "2025-07-06T13:57:40.531361Z",
          "shell.execute_reply": "2025-07-06T13:57:40.530715Z",
          "shell.execute_reply.started": "2025-07-06T13:57:40.526678Z"
        },
        "trusted": true,
        "id": "XiFlZlL6wz04"
      },
      "outputs": [],
      "source": [
        "\n",
        "opt_thresholds = np.array([0.69, 0.44, 0.60, 0.47, 0.32, 0.55])"
      ]
    },
    {
      "cell_type": "markdown",
      "metadata": {
        "id": "S8eze4lswz05"
      },
      "source": [
        "## 2. Model Performance"
      ]
    },
    {
      "cell_type": "markdown",
      "metadata": {
        "id": "cpy-Rnc4wz05"
      },
      "source": [
        "### Setup compute metrics function with optimal thresholds per label"
      ]
    },
    {
      "cell_type": "code",
      "execution_count": null,
      "metadata": {
        "execution": {
          "iopub.execute_input": "2025-07-06T13:57:49.358198Z",
          "iopub.status.busy": "2025-07-06T13:57:49.357933Z",
          "iopub.status.idle": "2025-07-06T13:57:49.364458Z",
          "shell.execute_reply": "2025-07-06T13:57:49.363744Z",
          "shell.execute_reply.started": "2025-07-06T13:57:49.358180Z"
        },
        "trusted": true,
        "id": "-pNneuscwz05"
      },
      "outputs": [],
      "source": [
        "\n",
        "from sklearn.metrics import f1_score, precision_score, recall_score\n",
        "import numpy as np\n",
        "import torch\n",
        "\n",
        "def compute_metrics(eval_pred):\n",
        "    logits, labels = eval_pred\n",
        "    probs = torch.sigmoid(torch.tensor(logits)).numpy()\n",
        "\n",
        "    # Use global optimal_thresholds defined outside the function\n",
        "    preds = (probs >= opt_thresholds).astype(int)\n",
        "\n",
        "    return {\n",
        "        \"f1_micro\": f1_score(labels, preds, average=\"micro\"),\n",
        "        \"f1_macro\": f1_score(labels, preds, average=\"macro\"),\n",
        "        \"precision_micro\": precision_score(labels, preds, average=\"micro\"),\n",
        "        \"recall_micro\": recall_score(labels, preds, average=\"micro\"),\n",
        "        \"precision_macro\": precision_score(labels, preds, average=\"macro\"),\n",
        "        \"recall_macro\": recall_score(labels, preds, average=\"macro\"),\n",
        "    }\n"
      ]
    },
    {
      "cell_type": "code",
      "execution_count": null,
      "metadata": {
        "execution": {
          "iopub.execute_input": "2025-07-06T14:01:48.257801Z",
          "iopub.status.busy": "2025-07-06T14:01:48.257207Z",
          "iopub.status.idle": "2025-07-06T14:05:32.960805Z",
          "shell.execute_reply": "2025-07-06T14:05:32.960142Z",
          "shell.execute_reply.started": "2025-07-06T14:01:48.257771Z"
        },
        "trusted": true,
        "id": "-C1lbWl5wz05",
        "outputId": "2860ebe5-58a1-4974-b4ff-729d8b293f51"
      },
      "outputs": [
        {
          "data": {
            "text/html": [],
            "text/plain": [
              "<IPython.core.display.HTML object>"
            ]
          },
          "metadata": {},
          "output_type": "display_data"
        },
        {
          "name": "stdout",
          "output_type": "stream",
          "text": [
            "f1_micro: 0.6740\n",
            "f1_macro: 0.6089\n",
            "precision_micro: 0.5857\n",
            "recall_micro: 0.7938\n",
            "precision_macro: 0.5426\n",
            "recall_macro: 0.7092\n"
          ]
        }
      ],
      "source": [
        "# Then evaluate\n",
        "test_results = trainer.predict(test_dataset)\n",
        "test_metrics = compute_metrics((test_results.predictions, test_results.label_ids))\n",
        "\n",
        "for k, v in test_metrics.items():\n",
        "    print(f\"{k}: {v:.4f}\")"
      ]
    },
    {
      "cell_type": "markdown",
      "metadata": {
        "id": "5R79LbG_wz05"
      },
      "source": []
    },
    {
      "cell_type": "code",
      "execution_count": null,
      "metadata": {
        "trusted": true,
        "id": "NKyCBQ3_wz05"
      },
      "outputs": [],
      "source": []
    },
    {
      "cell_type": "code",
      "execution_count": null,
      "metadata": {
        "trusted": true,
        "id": "LqRdOQ3Owz05"
      },
      "outputs": [],
      "source": []
    },
    {
      "cell_type": "code",
      "execution_count": null,
      "metadata": {
        "trusted": true,
        "id": "3zJVwTUcwz05"
      },
      "outputs": [],
      "source": []
    },
    {
      "cell_type": "code",
      "execution_count": null,
      "metadata": {
        "trusted": true,
        "id": "_DWwrg5rwz05"
      },
      "outputs": [],
      "source": []
    },
    {
      "cell_type": "code",
      "execution_count": null,
      "metadata": {
        "trusted": true,
        "id": "c-4qcRxUwz05"
      },
      "outputs": [],
      "source": []
    },
    {
      "cell_type": "code",
      "execution_count": null,
      "metadata": {
        "trusted": true,
        "id": "ycYYq-Dfwz05"
      },
      "outputs": [],
      "source": []
    },
    {
      "cell_type": "code",
      "execution_count": null,
      "metadata": {
        "trusted": true,
        "id": "rDWd-oV7wz05"
      },
      "outputs": [],
      "source": []
    },
    {
      "cell_type": "code",
      "execution_count": null,
      "metadata": {
        "trusted": true,
        "id": "kLEqLHzwwz05"
      },
      "outputs": [],
      "source": []
    },
    {
      "cell_type": "code",
      "execution_count": null,
      "metadata": {
        "trusted": true,
        "id": "unfj1phRwz06"
      },
      "outputs": [],
      "source": []
    },
    {
      "cell_type": "code",
      "execution_count": null,
      "metadata": {
        "trusted": true,
        "id": "yhlrqDIFwz06"
      },
      "outputs": [],
      "source": []
    },
    {
      "cell_type": "code",
      "execution_count": null,
      "metadata": {
        "trusted": true,
        "id": "DmPYbjOswz06"
      },
      "outputs": [],
      "source": []
    },
    {
      "cell_type": "code",
      "execution_count": null,
      "metadata": {
        "trusted": true,
        "id": "pM9qvH6_wz06"
      },
      "outputs": [],
      "source": []
    },
    {
      "cell_type": "code",
      "execution_count": null,
      "metadata": {
        "trusted": true,
        "id": "WPmozCrHwz06"
      },
      "outputs": [],
      "source": []
    },
    {
      "cell_type": "code",
      "execution_count": null,
      "metadata": {
        "trusted": true,
        "id": "w_YeslkMwz06"
      },
      "outputs": [],
      "source": []
    },
    {
      "cell_type": "code",
      "execution_count": null,
      "metadata": {
        "trusted": true,
        "id": "F5xcUmLNwz06"
      },
      "outputs": [],
      "source": []
    },
    {
      "cell_type": "code",
      "execution_count": null,
      "metadata": {
        "trusted": true,
        "id": "O1GTQGg_wz06"
      },
      "outputs": [],
      "source": []
    },
    {
      "cell_type": "code",
      "execution_count": null,
      "metadata": {
        "trusted": true,
        "id": "ZHBw4s3Bwz06"
      },
      "outputs": [],
      "source": []
    },
    {
      "cell_type": "code",
      "execution_count": null,
      "metadata": {
        "trusted": true,
        "id": "3-aOfMPKwz06"
      },
      "outputs": [],
      "source": []
    },
    {
      "cell_type": "code",
      "execution_count": null,
      "metadata": {
        "trusted": true,
        "id": "NK-p3tOVwz06"
      },
      "outputs": [],
      "source": []
    },
    {
      "cell_type": "code",
      "execution_count": null,
      "metadata": {
        "trusted": true,
        "id": "iGFv_xUmwz06"
      },
      "outputs": [],
      "source": []
    },
    {
      "cell_type": "code",
      "execution_count": null,
      "metadata": {
        "trusted": true,
        "id": "W-EBfTnqwz06"
      },
      "outputs": [],
      "source": []
    },
    {
      "cell_type": "code",
      "execution_count": null,
      "metadata": {
        "trusted": true,
        "id": "x55lklF4wz06"
      },
      "outputs": [],
      "source": []
    },
    {
      "cell_type": "code",
      "execution_count": null,
      "metadata": {
        "trusted": true,
        "id": "PWekBZ0wwz06"
      },
      "outputs": [],
      "source": []
    }
  ],
  "metadata": {
    "accelerator": "GPU",
    "colab": {
      "gpuType": "T4",
      "provenance": []
    },
    "kaggle": {
      "accelerator": "gpu",
      "dataSources": [
        {
          "datasetId": 7807997,
          "sourceId": 12382676,
          "sourceType": "datasetVersion"
        }
      ],
      "dockerImageVersionId": 31041,
      "isGpuEnabled": true,
      "isInternetEnabled": true,
      "language": "python",
      "sourceType": "notebook"
    },
    "kernelspec": {
      "display_name": "Python 3",
      "language": "python",
      "name": "python3"
    },
    "language_info": {
      "codemirror_mode": {
        "name": "ipython",
        "version": 3
      },
      "file_extension": ".py",
      "mimetype": "text/x-python",
      "name": "python",
      "nbconvert_exporter": "python",
      "pygments_lexer": "ipython3",
      "version": "3.11.11"
    },
    "widgets": {
      "application/vnd.jupyter.widget-state+json": {}
    }
  },
  "nbformat": 4,
  "nbformat_minor": 0
}